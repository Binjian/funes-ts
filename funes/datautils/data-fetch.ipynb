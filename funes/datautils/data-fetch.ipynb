{
 "cells": [
  {
   "cell_type": "markdown",
   "metadata": {},
   "source": [
    "This script is to download data from elastic platform by some features(car number,time range)\n",
    "data will be store in json file"
   ]
  },
  {
   "cell_type": "code",
   "execution_count": 1,
   "metadata": {},
   "outputs": [
    {
     "name": "stdout",
     "output_type": "stream",
     "text": [
      "2022-05-10 00:00:00\n",
      "2022-05-17 00:00:00\n",
      "start fetch data\n"
     ]
    },
    {
     "name": "stderr",
     "output_type": "stream",
     "text": [
      "/tmp/ipykernel_691/105484191.py:39: DeprecationWarning: The 'http_auth' parameter is deprecated. Use 'basic_auth' or 'bearer_auth' parameters instead\n",
      "  es = Elasticsearch(\n",
      "/tmp/ipykernel_691/105484191.py:73: DeprecationWarning: Passing transport options in the API method is deprecated. Use 'Elasticsearch.options()' instead.\n",
      "  res = es.search(index=\"tsp-vehicle-log3*\", body=body, size=20000, request_timeout=300000)\n",
      "/tmp/ipykernel_691/105484191.py:73: DeprecationWarning: The 'body' parameter is deprecated and will be removed in a future version. Instead use individual parameters.\n",
      "  res = es.search(index=\"tsp-vehicle-log3*\", body=body, size=20000, request_timeout=300000)\n"
     ]
    },
    {
     "name": "stdout",
     "output_type": "stream",
     "text": [
      "week search done\n",
      "2022-05-17 00:00:00\n",
      "2022-05-24 00:00:00\n",
      "start fetch data\n",
      "week search done\n",
      "end fetch data\n",
      "success\n"
     ]
    }
   ],
   "source": [
    "from typing import MutableSet\n",
    "from elasticsearch import Elasticsearch\n",
    "import json\n",
    "from datetime import datetime\n",
    "from collections import Counter\n",
    "import openpyxl\n",
    "\n",
    "\n",
    "# define unix timestamp\n",
    "day_timestamp = 86400000\n",
    "week_timestamp = day_timestamp * 7\n",
    "\n",
    "# car vin number to search\n",
    "carNo1 = \"HMZABAAH4NF003291\"  \n",
    "# carNo2 = \"HMZABAAHXMF018277\" \n",
    "# json file to store data\n",
    "filename = \"../../data/all-info/\" + carNo1 + \"_510_519.json\" \n",
    "# time range\n",
    "start_time = \"2022.5.10 00:00:00\"\n",
    "end_time = \"2022.5.24 00:00:00\"   \n",
    "# TODO change time range\n",
    "# convert time range to timestamp\n",
    "start_timestamp = int(datetime.strptime(start_time, \"%Y.%m.%d %H:%M:%S\").timestamp() * 1000)\n",
    "end_timestamp = int(datetime.strptime(end_time, \"%Y.%m.%d %H:%M:%S\").timestamp() * 1000) \n",
    "# define time gap\n",
    "time_gap = end_timestamp - start_timestamp\n",
    "cycle = int(time_gap/week_timestamp)\n",
    "init_res = []\n",
    "\n",
    "for i in range(cycle):\n",
    "    start_time = (start_timestamp + i * week_timestamp)\n",
    "    end_time = (start_time + week_timestamp)\n",
    "    print(datetime.fromtimestamp(start_time/1000))\n",
    "    print(datetime.fromtimestamp(end_time/1000))\n",
    "    # define soc range\n",
    "    start_soc = 80\n",
    "    end_soc = 100\n",
    "    # define elastic address & port and authentication\n",
    "    es = Elasticsearch(\n",
    "        hosts=[\n",
    "            \"http://10.0.80.13:9200\",\n",
    "            \"http://10.0.80.14:9200\",\n",
    "            \"http://10.0.80.15:9200\",   \n",
    "        ],\n",
    "        http_auth=(\"elastic\", \"123456\")\n",
    "    )\n",
    "    # start fetch\n",
    "    print(\"start fetch data\")\n",
    "    # define search range and filter\n",
    "    body = {\n",
    "        \"query\": {\n",
    "            \"bool\": {\n",
    "                # must match car vin number and charge state\n",
    "                \"must\": [\n",
    "                {\"match\": {\"vin\": carNo1}},\n",
    "                 {\"match\": {\"canData.data.VCU_BMSChargeState\" :3}}\n",
    "                ],\n",
    "                # filt the search time range\n",
    "                \"filter\": [{\"range\": {\"travelTime\": {\"gte\": start_time, \"lte\": end_time,}}},\n",
    "                           {\"range\": {\"canData.data.BMSSOC\": {\"gte\": start_soc, \"lte\": end_soc,}}}\n",
    "                ],  \n",
    "            }\n",
    "        },\n",
    "        # sort data via travel time and by order of asc\n",
    "        \"sort\": [\n",
    "        {\n",
    "            \"travelTime\": {\"order\": \"asc\"}\n",
    "        }\n",
    "        ],\n",
    "        \n",
    "    }\n",
    "    # index is the project name, size is defined size of fetched data \n",
    "    res = es.search(index=\"tsp-vehicle-log3*\", body=body, size=20000, request_timeout=300000)\n",
    "    if i == 0:\n",
    "        init_res = res[\"hits\"][\"hits\"]\n",
    "    else:\n",
    "        init_res.extend(res[\"hits\"][\"hits\"])\n",
    "    print(\"week search done\")  \n",
    "# print(res)     \n",
    "with open(filename, \"w\") as file_obj:\n",
    "        json.dump(init_res, file_obj)                                                                       \n",
    "print(\"end fetch data\")\n",
    "# finish saving\n",
    "print(\"success\")\n"
   ]
  }
 ],
 "metadata": {
  "interpreter": {
   "hash": "d19003be43ca76cd61f9fb1a466e199323b963a3248306e813909d3271b8a541"
  },
  "kernelspec": {
   "display_name": "Python 3.9.7 64-bit ('battery': conda)",
   "language": "python",
   "name": "python3"
  },
  "language_info": {
   "codemirror_mode": {
    "name": "ipython",
    "version": 3
   },
   "file_extension": ".py",
   "mimetype": "text/x-python",
   "name": "python",
   "nbconvert_exporter": "python",
   "pygments_lexer": "ipython3",
   "version": "3.8.12"
  },
  "orig_nbformat": 4
 },
 "nbformat": 4,
 "nbformat_minor": 2
}
