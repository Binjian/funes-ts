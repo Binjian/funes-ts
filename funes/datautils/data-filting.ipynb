{
 "cells": [
  {
   "cell_type": "markdown",
   "metadata": {},
   "source": [
    "This script is to filter the data downloaded by getData.ipynb\n",
    "required data in json file\n",
    "will store filtered data into .xlsx"
   ]
  },
  {
   "cell_type": "code",
   "execution_count": 10,
   "metadata": {},
   "outputs": [],
   "source": [
    "import json\n",
    "from typing import cast\n",
    "import numpy as np\n",
    "import time\n",
    "from collections import Counter\n",
    "from os import times\n",
    "import matplotlib.pyplot as plt\n",
    "import openpyxl\n",
    "from numpy.lib.shape_base import column_stack\n",
    "from scipy.interpolate import interp1d\n",
    "\n",
    "# define data-fetch file\n",
    "wb = openpyxl.Workbook()\n",
    "carno = \"HMZABAAH9MF014494_412_512\"\n",
    "ws = wb.create_sheet(carno)\n",
    "# data json file         \n",
    "filename = \"../../data/all-info/\"+carno+\".json\" \n",
    "# load json \n",
    "with open(filename) as file_obj:\n",
    "    res = json.load(file_obj)       "
   ]
  },
  {
   "cell_type": "code",
   "execution_count": 11,
   "metadata": {},
   "outputs": [],
   "source": [
    "soc = [0,2,5,10,15,20,25,30,35,40,45,50,55,60,65,70,75,80,85,90,95,98,100]\n",
    "ocv = [2737.5,3085.5,3180,3209.3,3223.1,3250.4,3266.7,3282.1,3289.2,3289.9,3290.6,3291.3,3293.2,3304.1,3329.6,3330.3,3331,3332,3332.9,3334.1,3334.5,3365,3443.2]\n",
    "\n",
    "get_ocv = interp1d(soc,ocv,kind='linear')"
   ]
  },
  {
   "cell_type": "markdown",
   "metadata": {},
   "source": [
    "the code below only filter the data into time,current and voltage1-198\n",
    "\n"
   ]
  },
  {
   "cell_type": "code",
   "execution_count": 19,
   "metadata": {},
   "outputs": [],
   "source": [
    "# start from second row\n",
    "num = 2\n",
    "\n",
    "for keys in res:\n",
    "    # save cell voltage\n",
    "    Vol = []\n",
    "    for i in range(1, 10):\n",
    "        try:\n",
    "            Vol.append(\n",
    "                keys[\"_source\"][\"canData\"][\"data\"][\"CellVoltage_0\" + str(i)]\n",
    "            )\n",
    "        except:\n",
    "            print(str(i) + \"th dose not exist\")\n",
    "            continue\n",
    "    for i in range(10, 199):\n",
    "        try:\n",
    "            Vol.append(\n",
    "                keys[\"_source\"][\"canData\"][\"data\"][\"CellVoltage_\" + str(i)]\n",
    "            )\n",
    "        except:\n",
    "            print(str(i) + \"th dose not exist\")\n",
    "    if sum(Vol) != 0 and Vol.count(8191) == 0:     #8191 is error code.\n",
    "        vnum = 1\n",
    "        for v in Vol:\n",
    "            ws.cell(row=num, column=vnum + 3).value = v\n",
    "            # iterate all cellvoltage_i\n",
    "            vnum += 1\n",
    "\n",
    "        try:\n",
    "            # save time, current and soc\n",
    "            ws.cell(row=num, column=1).value = time.strftime(\"%Y-%m-%d %H:%M:%S\", time.localtime(int(keys[\"_source\"][\"travelTime\"])/1000))\n",
    "            ws.cell(row=num, column=2).value = keys[\"_source\"][\"canData\"][\"data\"][\"VCU_BMSPackCurrent\"]\n",
    "            ws.cell(row=num, column=3).value = keys[\"_source\"][\"canData\"][\"data\"][\"BMSSOC\"]   \n",
    "            ws.cell(row=num, column=4).value = keys[\"_source\"][\"canData\"][\"data\"][\"VCU_BMSChargeState\"]\n",
    "            # ws.cell(row=num, column=5).value = get_ocv(keys[\"_source\"][\"canData\"][\"data\"][\"BMSSOC\"])   \n",
    "            ocv = get_ocv(keys[\"_source\"][\"canData\"][\"data\"][\"BMSSOC\"])\n",
    "            ws.cell(row=num, column=5).value = ocv\n",
    "        except:\n",
    "            continue\n",
    "        num += 1  # increment of row\n",
    "    else:\n",
    "        print(\"8191 error!\")\n",
    "\n",
    "# title \"CellVoltage1-198\"\n",
    "for i in range(1, 199):\n",
    "    ws.cell(row=1, column=i + 5).value = \"CellVoltage_\" + str(i) \n",
    "# time, current and soc to file \n",
    "ws.cell(row=1, column=1).value = \"time\"         \n",
    "ws.cell(row=1, column=2).value = \"current\"     \n",
    "ws.cell(row=1, column=3).value = \"BMSSOC\"\n",
    "ws.cell(row=1, column=4).value = \"VCU_BMSChargeState\"\n",
    "ws.cell(row=1, column=5).value = \"ocv\"\n",
    "\n"
   ]
  },
  {
   "cell_type": "code",
   "execution_count": 20,
   "metadata": {},
   "outputs": [
    {
     "name": "stdout",
     "output_type": "stream",
     "text": [
      "success\n"
     ]
    }
   ],
   "source": [
    "#save in xlsx\n",
    "wb.save(\"../../data/filt-data/\"+carno+\".xlsx\")\n",
    "print(\"success\") "
   ]
  }
 ],
 "metadata": {
  "interpreter": {
   "hash": "d19003be43ca76cd61f9fb1a466e199323b963a3248306e813909d3271b8a541"
  },
  "kernelspec": {
   "display_name": "Python 3.9.7 64-bit ('battery': conda)",
   "language": "python",
   "name": "python3"
  },
  "language_info": {
   "codemirror_mode": {
    "name": "ipython",
    "version": 3
   },
   "file_extension": ".py",
   "mimetype": "text/x-python",
   "name": "python",
   "nbconvert_exporter": "python",
   "pygments_lexer": "ipython3",
   "version": "3.8.12"
  },
  "orig_nbformat": 4
 },
 "nbformat": 4,
 "nbformat_minor": 2
}
